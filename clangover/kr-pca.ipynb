{
 "cells": [
  {
   "cell_type": "markdown",
   "metadata": {},
   "source": [
    "# Key-Recovery Plaintext-Checking Attack on Kyber\n",
    "$m[j] = \\texttt{Compress}(1, v[j] - s_i[j] \\cdot u_i[j])$\n",
    "\n",
    "Depending on the value of $s_i[j]$ (the $j^\\text{th}$ coefficient of the $i^\\text{th}$ polynomial in the secret key $\\mathbf{s}\\in R^k$), the range of $v[j]$ for which $m[j]$ is $1$ will change, so depending on the response for some chosen values of $v[j]$, we can pin down the value of $s_i[j]$. We then only need to repeat for all $1 \\leq i \\leq k, 1 \\leq j \\leq n$.\n",
    "\n",
    "## Compression and decompression\n",
    "```rust\n",
    "use std::collections::{HashMap, HashSet};\n",
    "pub const KYBER_Q: u32 = 3329;\n",
    "pub const HALF_Q: u32 = 1665;\n",
    "\n",
    "pub fn to_positive_repr(mut val: i16) -> u32 {\n",
    "    val += (val >> 15) & 3329;\n",
    "    val as u32\n",
    "}\n",
    "\n",
    "pub fn compress(d: usize, mut val: u32) -> u32 {\n",
    "    val = val << d;\n",
    "    val += HALF_Q;\n",
    "    val *= 80635;\n",
    "    val >>= 28;\n",
    "    return val & (u32::MAX >> (32 - d));\n",
    "}\n",
    "\n",
    "pub fn decompress(d: usize, mut val: u32) -> u32 {\n",
    "    val = val * KYBER_Q;\n",
    "    val += 1 << (d - 1);\n",
    "    val >>= d;\n",
    "    return val;\n",
    "}\n",
    "\n",
    "fn main() {\n",
    "    // ML-KEM-512/768\n",
    "    let (du, dv, eta1) = (10usize, 4usize, 3i16);\n",
    "    // ML-KEM-1024\n",
    "    // let (du, dv, eta1) = (11usize, 5usize, 2i16);\n",
    "    let compressed_u = 1<<5;\n",
    "    let u = decompress(du, compressed_u);\n",
    "    \n",
    "    for s in -eta1..=eta1 {\n",
    "        println!(\"s: {s}\");\n",
    "        let s_unsigned = to_positive_repr(s);\n",
    "        for compressed_v in 0..(1<<dv) {\n",
    "            let v = decompress(dv, compressed_v);\n",
    "            let decryption = compress(\n",
    "                1, \n",
    "                (v + KYBER_Q - (s_unsigned * u % KYBER_Q)) % KYBER_Q\n",
    "            );\n",
    "            println!(\"compressed_v: {compressed_v}, m: {decryption}\");\n",
    "        }\n",
    "    }\n",
    "}\n",
    "```"
   ]
  },
  {
   "cell_type": "code",
   "execution_count": 1,
   "metadata": {},
   "outputs": [],
   "source": [
    "import numpy as np\n",
    "\n",
    "KYBER_Q = 3329\n",
    "KYBER_CEIL_HALF_Q = 1665\n",
    "\n",
    "def compress(d: int, num: int) -> int:\n",
    "    \"\"\"Algorithm 4.7 from FIPS 203\"\"\"\n",
    "    num <<= d\n",
    "    num += KYBER_CEIL_HALF_Q\n",
    "    num //= KYBER_Q\n",
    "\n",
    "    return num % (1 << d)\n",
    "\n",
    "def decompress(d: int, num: int) -> int:\n",
    "    \"\"\"Algorithm 4.8 of FIPS 203\"\"\"\n",
    "    num *= KYBER_Q\n",
    "    num += (1 << (d - 1))\n",
    "    num >>= d\n",
    "    return num\n",
    "\n",
    "du, dv, eta1 = 10, 4, 3  # ML-KEM-512\n",
    "# du, dv, eta1 = 10, 4, 2  # ML-KEM-768\n",
    "# du, dv, eta1 = 11, 5, 2  # ML-KEM-1024"
   ]
  },
  {
   "cell_type": "markdown",
   "metadata": {},
   "source": [
    "For a given choice of $u_i[j]$ and $v_j$, the value of $\\hat{m}[j] \\leftarrow \\texttt{compress}_{d=1}(v[j] - s_i[j]\\cdot u_i[j])$ depend on the value of $s_i[j]$, which is how we can pinpoint the value of a specific coefficient in the secret key. The strategy would be something like this:\n",
    "\n",
    "- Given some $u_i[j]$, the range of $v[j]$ such that $\\hat{m}[j]$ is $1$ is \"this to that\" if $s_i[j] = 0$, is \"this to that\" if $s_i[j] = 1$, etc."
   ]
  },
  {
   "cell_type": "code",
   "execution_count": 11,
   "metadata": {},
   "outputs": [
    {
     "name": "stdout",
     "output_type": "stream",
     "text": [
      "compressed_v: 00000 pattern: [0, 0, 0, 0, 0, 0, 0]\n",
      "compressed_v: 00001 pattern: [1, 0, 0, 0, 0, 0, 0]\n",
      "compressed_v: 00010 pattern: [1, 1, 0, 0, 0, 0, 0]\n",
      "compressed_v: 00011 pattern: [1, 1, 1, 0, 0, 0, 0]\n",
      "compressed_v: 00100 pattern: [1, 1, 1, 1, 0, 0, 0]\n",
      "compressed_v: 00101 pattern: [1, 1, 1, 1, 1, 0, 0]\n",
      "compressed_v: 00110 pattern: [1, 1, 1, 1, 1, 1, 0]\n",
      "compressed_v: 00111 pattern: [1, 1, 1, 1, 1, 1, 1]\n",
      "compressed_v: 01000 pattern: [1, 1, 1, 1, 1, 1, 1]\n",
      "compressed_v: 01001 pattern: [0, 1, 1, 1, 1, 1, 1]\n",
      "compressed_v: 01010 pattern: [0, 0, 1, 1, 1, 1, 1]\n",
      "compressed_v: 01011 pattern: [0, 0, 0, 1, 1, 1, 1]\n",
      "compressed_v: 01100 pattern: [0, 0, 0, 0, 1, 1, 1]\n",
      "compressed_v: 01101 pattern: [0, 0, 0, 0, 0, 1, 1]\n",
      "compressed_v: 01110 pattern: [0, 0, 0, 0, 0, 0, 1]\n",
      "compressed_v: 01111 pattern: [0, 0, 0, 0, 0, 0, 0]\n"
     ]
    }
   ],
   "source": [
    "# fix some value for u\n",
    "compressed_u = 1 << 6\n",
    "u = decompress(du, compressed_u)\n",
    "\n",
    "for compressed_v in range(1 << dv):\n",
    "    v = decompress(dv, compressed_v)\n",
    "    pattern = []\n",
    "    for s_ij in range(-eta1, eta1 + 1):\n",
    "        m = compress(1, (v + KYBER_Q - s_ij * u) % KYBER_Q)\n",
    "        pattern.append(m)\n",
    "    print(f\"compressed_v: {compressed_v:05b} pattern: {pattern}\")"
   ]
  },
  {
   "cell_type": "markdown",
   "metadata": {},
   "source": [
    "Using the snippet above, it is easy to develop the concrete strategy for finding $s_i[j]$ (for ML-KEM-512) using up to three queries:\n",
    "\n",
    "![ML-KEM-512 KR-PCA queries](./kyber512-ky-pca-queries.png)\n",
    "\n",
    "There are $k \\times n$ secret coefficients, so it takes at most $(\\log_2{2 \\cdot \\eta_1 + 1}\\cdot k \\cdot n)$ decryption queries to completely recover the secret key:\n",
    "\n",
    "|security level|$k$|$n$|$eta_1$|decryption queries needed|\n",
    "|:--|:--|:--|:--|:--|\n",
    "|ML-KEM-512|2|256|3|1536|\n",
    "|ML-KEM-768|3|256|2|2304|\n",
    "|ML-KEM-512|4|256|2|3072|"
   ]
  }
 ],
 "metadata": {
  "kernelspec": {
   "display_name": ".venv",
   "language": "python",
   "name": "python3"
  },
  "language_info": {
   "codemirror_mode": {
    "name": "ipython",
    "version": 3
   },
   "file_extension": ".py",
   "mimetype": "text/x-python",
   "name": "python",
   "nbconvert_exporter": "python",
   "pygments_lexer": "ipython3",
   "version": "3.10.4"
  }
 },
 "nbformat": 4,
 "nbformat_minor": 2
}
