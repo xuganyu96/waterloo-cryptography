{
 "cells": [
  {
   "cell_type": "markdown",
   "metadata": {},
   "source": [
    "# Key-Recovery Plaintext-Checking Attack on Kyber\n",
    "$m[j] = \\texttt{Compress}(1, v[j] - s_i[j] \\cdot u_i[j])$\n",
    "\n",
    "Depending on the value of $s_i[j]$ (the $j^\\text{th}$ coefficient of the $i^\\text{th}$ polynomial in the secret key $\\mathbf{s}\\in R^k$), the range of $v[j]$ for which $m[j]$ is $1$ will change, so depending on the response for some chosen values of $v[j]$, we can pin down the value of $s_i[j]$. We then only need to repeat for all $1 \\leq i \\leq k, 1 \\leq j \\leq n$.\n",
    "\n",
    "## Compression and decompression\n",
    "```rust\n",
    "use std::collections::{HashMap, HashSet};\n",
    "pub const KYBER_Q: u32 = 3329;\n",
    "pub const HALF_Q: u32 = 1665;\n",
    "\n",
    "pub fn to_positive_repr(mut val: i16) -> u32 {\n",
    "    val += (val >> 15) & 3329;\n",
    "    val as u32\n",
    "}\n",
    "\n",
    "pub fn compress(d: usize, mut val: u32) -> u32 {\n",
    "    val = val << d;\n",
    "    val += HALF_Q;\n",
    "    val *= 80635;\n",
    "    val >>= 28;\n",
    "    return val & (u32::MAX >> (32 - d));\n",
    "}\n",
    "\n",
    "pub fn decompress(d: usize, mut val: u32) -> u32 {\n",
    "    val = val * KYBER_Q;\n",
    "    val += 1 << (d - 1);\n",
    "    val >>= d;\n",
    "    return val;\n",
    "}\n",
    "\n",
    "fn main() {\n",
    "    // ML-KEM-512/768\n",
    "    let (du, dv, eta1) = (10usize, 4usize, 3i16);\n",
    "    // ML-KEM-1024\n",
    "    // let (du, dv, eta1) = (11usize, 5usize, 2i16);\n",
    "    let compressed_u = 1<<5;\n",
    "    let u = decompress(du, compressed_u);\n",
    "    \n",
    "    for s in -eta1..=eta1 {\n",
    "        println!(\"s: {s}\");\n",
    "        let s_unsigned = to_positive_repr(s);\n",
    "        for compressed_v in 0..(1<<dv) {\n",
    "            let v = decompress(dv, compressed_v);\n",
    "            let decryption = compress(\n",
    "                1, \n",
    "                (v + KYBER_Q - (s_unsigned * u % KYBER_Q)) % KYBER_Q\n",
    "            );\n",
    "            println!(\"compressed_v: {compressed_v}, m: {decryption}\");\n",
    "        }\n",
    "    }\n",
    "}\n",
    "```"
   ]
  }
 ],
 "metadata": {
  "kernelspec": {
   "display_name": ".venv",
   "language": "python",
   "name": "python3"
  },
  "language_info": {
   "codemirror_mode": {
    "name": "ipython",
    "version": 3
   },
   "file_extension": ".py",
   "mimetype": "text/x-python",
   "name": "python",
   "nbconvert_exporter": "python",
   "pygments_lexer": "ipython3",
   "version": "3.10.4"
  }
 },
 "nbformat": 4,
 "nbformat_minor": 2
}
