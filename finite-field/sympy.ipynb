{
 "cells": [
  {
   "cell_type": "markdown",
   "metadata": {},
   "source": [
    "# Finite field operations in Sympy\n",
    "\n",
    "Finite field is abstracted using the `GF` objects in Sympy (which is also aliased to `FF`). The `GF` class instantiates to an instance of a Galois Field.\n",
    "\n",
    "Finite fields necessarily have prime characteristics. However, the `GF` constructor permits non-prime modulus, though the resulting set is not an integral domain due to the existence of zero divisors."
   ]
  },
  {
   "cell_type": "code",
   "execution_count": 19,
   "metadata": {},
   "outputs": [
    {
     "data": {
      "text/plain": [
       "SymmetricModularIntegerMod7(1)"
      ]
     },
     "metadata": {},
     "output_type": "display_data"
    }
   ],
   "source": [
    "from sympy import GF, FF\n",
    "\n",
    "assert GF is FF\n",
    "\n",
    "# A prime field\n",
    "ff = GF(7)\n",
    "display(ff(3) * ff(5))  # 3 * 5 = 1 (mod 7)\n",
    "\n",
    "# Non-prime integer ring is not integral domain because of zero divisors:\n",
    "ring = GF(6)\n",
    "assert ring(2) * ring(3) == ring(0)"
   ]
  },
  {
   "cell_type": "markdown",
   "metadata": {},
   "source": [
    "As of Jan, 2024, there is no implementation of finite field of prime powers. Instead, we can work with polynomials with polynomial reduction."
   ]
  },
  {
   "cell_type": "code",
   "execution_count": 32,
   "metadata": {},
   "outputs": [
    {
     "data": {
      "text/latex": [
       "$\\displaystyle \\operatorname{Poly}{\\left( x^{4} + x^{3} + 1, x, domain=\\mathbb{F}_{2} \\right)}$"
      ],
      "text/plain": [
       "Poly(x**4 + x**3 + 1, x, modulus=2)"
      ]
     },
     "metadata": {},
     "output_type": "display_data"
    },
    {
     "data": {
      "text/latex": [
       "$\\displaystyle \\operatorname{Poly}{\\left( x^{3} + 1, x, domain=\\mathbb{F}_{2} \\right)}$"
      ],
      "text/plain": [
       "Poly(x**3 + 1, x, modulus=2)"
      ]
     },
     "metadata": {},
     "output_type": "display_data"
    }
   ],
   "source": [
    "from sympy import Poly, symbols\n",
    "\n",
    "ff = GF(2)\n",
    "x = symbols(\"x\")\n",
    "# x^4 + x + 1 is irreducible over F_(2^4)\n",
    "polymod = Poly([1, 1, 0, 0, 1], x, domain = ff)\n",
    "display(polymod)\n",
    "\n",
    "p1 = Poly([1, 0, 0, 0], x, domain = ff)\n",
    "p2 = Poly([0, 0, 1, 0], x, domain = ff)\n",
    "prod = (p1 * p2) % polymod\n",
    "# x^4 = x^3 + 1 (mod x^4 + x^3 + 1) within F_2\n",
    "display(prod)\n"
   ]
  }
 ],
 "metadata": {
  "kernelspec": {
   "display_name": ".venv",
   "language": "python",
   "name": "python3"
  },
  "language_info": {
   "codemirror_mode": {
    "name": "ipython",
    "version": 3
   },
   "file_extension": ".py",
   "mimetype": "text/x-python",
   "name": "python",
   "nbconvert_exporter": "python",
   "pygments_lexer": "ipython3",
   "version": "3.10.4"
  }
 },
 "nbformat": 4,
 "nbformat_minor": 2
}
