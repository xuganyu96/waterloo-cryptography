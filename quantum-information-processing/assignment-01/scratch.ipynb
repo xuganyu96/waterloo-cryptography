{
 "cells": [
  {
   "cell_type": "code",
   "execution_count": 1,
   "metadata": {},
   "outputs": [
    {
     "data": {
      "text/latex": [
       "$\\displaystyle \\left[\\begin{matrix}0\\\\0\\\\0\\\\1\\end{matrix}\\right]$"
      ],
      "text/plain": [
       "Matrix([\n",
       "[0],\n",
       "[0],\n",
       "[0],\n",
       "[1]])"
      ]
     },
     "metadata": {},
     "output_type": "display_data"
    },
    {
     "data": {
      "text/latex": [
       "$\\displaystyle \\left[\\begin{matrix}1\\\\0\\\\0\\\\0\\end{matrix}\\right]$"
      ],
      "text/plain": [
       "Matrix([\n",
       "[1],\n",
       "[0],\n",
       "[0],\n",
       "[0]])"
      ]
     },
     "metadata": {},
     "output_type": "display_data"
    }
   ],
   "source": [
    "from sympy import Matrix, sqrt\n",
    "\n",
    "U = Matrix([\n",
    "    [1/sqrt(2), 0, 0, -1/sqrt(2)],\n",
    "    [0, 1/sqrt(2), 1/sqrt(2), 0],\n",
    "    [0, -1/sqrt(2),1/sqrt(2), 0],\n",
    "    [1/sqrt(2), 0, 0, 1/sqrt(2)]\n",
    "])\n",
    "# display(U)\n",
    "# display(U.transpose().conjugate() * U)\n",
    "\n",
    "psi_0 = Matrix([\n",
    "    [1/sqrt(2), 0, 0, 1/sqrt(2)]\n",
    "]).transpose()  # column\n",
    "psi_1 = Matrix([\n",
    "    [1/sqrt(2), 0, 0, -1/sqrt(2)]\n",
    "]).transpose()  # column\n",
    "\n",
    "# display(psi_0, psi_1)\n",
    "\n",
    "display(U * psi_0, U * psi_1)"
   ]
  },
  {
   "cell_type": "code",
   "execution_count": 2,
   "metadata": {},
   "outputs": [
    {
     "data": {
      "text/latex": [
       "$\\displaystyle \\left[\\begin{matrix}\\frac{1}{2} & \\frac{i}{2} & \\frac{i}{2} & - \\frac{1}{2}\\\\\\frac{i}{2} & \\frac{1}{2} & - \\frac{1}{2} & \\frac{i}{2}\\\\\\frac{i}{2} & - \\frac{1}{2} & \\frac{1}{2} & \\frac{i}{2}\\\\- \\frac{1}{2} & \\frac{i}{2} & \\frac{i}{2} & \\frac{1}{2}\\end{matrix}\\right]$"
      ],
      "text/plain": [
       "Matrix([\n",
       "[ 1/2,  I/2,  I/2, -1/2],\n",
       "[ I/2,  1/2, -1/2,  I/2],\n",
       "[ I/2, -1/2,  1/2,  I/2],\n",
       "[-1/2,  I/2,  I/2,  1/2]])"
      ]
     },
     "metadata": {},
     "output_type": "display_data"
    },
    {
     "data": {
      "text/latex": [
       "$\\displaystyle \\left[\\begin{matrix}0\\\\\\frac{\\sqrt{2} i}{2}\\\\\\frac{\\sqrt{2} i}{2}\\\\0\\end{matrix}\\right]$"
      ],
      "text/plain": [
       "Matrix([\n",
       "[          0],\n",
       "[sqrt(2)*I/2],\n",
       "[sqrt(2)*I/2],\n",
       "[          0]])"
      ]
     },
     "metadata": {},
     "output_type": "display_data"
    }
   ],
   "source": [
    "from sympy import I\n",
    "from sympy.physics.quantum import TensorProduct\n",
    "\n",
    "U = 1/sqrt(2) * Matrix([\n",
    "    [1, I],\n",
    "    [I, 1],\n",
    "])\n",
    "U = TensorProduct(U, U)\n",
    "display(U)\n",
    "\n",
    "Psi = Matrix(\n",
    "    [1/sqrt(2), 0, 0, 1/sqrt(2)]\n",
    ")\n",
    "\n",
    "display(U * Psi)"
   ]
  },
  {
   "cell_type": "markdown",
   "metadata": {},
   "source": [
    "# Question 4\n",
    "## (a)"
   ]
  },
  {
   "cell_type": "code",
   "execution_count": 3,
   "metadata": {},
   "outputs": [],
   "source": [
    "hadamard = Matrix([\n",
    "    [1/sqrt(2), 1/sqrt(2)],\n",
    "    [1/sqrt(2), -1/sqrt(2)]\n",
    "])\n",
    "cnot = Matrix([\n",
    "    [1, 0, 0, 0],\n",
    "    [0, 1, 0, 0],\n",
    "    [0, 0, 0, 1],\n",
    "    [0, 0, 1, 0],\n",
    "])\n",
    "\n",
    "# The inverted CNOT\n",
    "_0 = Matrix([1, 0])\n",
    "_1 = Matrix([0, 1])\n",
    "not_ = Matrix([[0, 1], [1, 0]])\n",
    "inverted_cnot = Matrix([\n",
    "    [TensorProduct(_0, _0),\n",
    "    TensorProduct((not_ * _0), _1),\n",
    "    TensorProduct(_1, _0),\n",
    "    TensorProduct((not_ * _1), _1)]\n",
    "])\n",
    "\n",
    "assert TensorProduct(hadamard, hadamard) * cnot * TensorProduct(hadamard, hadamard) == inverted_cnot"
   ]
  },
  {
   "cell_type": "markdown",
   "metadata": {},
   "source": [
    "## (b)"
   ]
  },
  {
   "cell_type": "code",
   "execution_count": 4,
   "metadata": {},
   "outputs": [],
   "source": [
    "pauli_z = Matrix([])"
   ]
  },
  {
   "cell_type": "markdown",
   "metadata": {},
   "source": [
    "## (c)"
   ]
  },
  {
   "cell_type": "code",
   "execution_count": 14,
   "metadata": {},
   "outputs": [
    {
     "data": {
      "text/latex": [
       "$\\displaystyle \\left[\\begin{matrix}- \\frac{1}{2} & \\frac{i}{2} & - \\frac{1}{2} & \\frac{i}{2}\\\\- \\frac{i}{2} & \\frac{1}{2} & - \\frac{i}{2} & - \\frac{1}{2} + i\\\\- \\frac{1}{2} & \\frac{i}{2} & - \\frac{1}{2} & \\frac{i}{2}\\\\- \\frac{i}{2} & - \\frac{1}{2} - i & - \\frac{i}{2} & \\frac{1}{2}\\end{matrix}\\right]$"
      ],
      "text/plain": [
       "Matrix([\n",
       "[-1/2,      I/2, -1/2,      I/2],\n",
       "[-I/2,      1/2, -I/2, -1/2 + I],\n",
       "[-1/2,      I/2, -1/2,      I/2],\n",
       "[-I/2, -1/2 - I, -I/2,      1/2]])"
      ]
     },
     "metadata": {},
     "output_type": "display_data"
    }
   ],
   "source": [
    "from sympy import Symbol, sin, cos, exp, pi\n",
    "from sympy.physics.quantum import Dagger\n",
    "\n",
    "cy = Matrix([\n",
    "    [1, 0, 0, 0],\n",
    "    [0, 1, 0, 0],\n",
    "    [0, 0, 0, -I],\n",
    "    [0, 0, I, 0],\n",
    "])\n",
    "inv_cy = Matrix([\n",
    "    [1, 0, 0, 0],\n",
    "    [0, 0, 0, -I],\n",
    "    [0, 0, 1, 0],\n",
    "    [0, I, 0, 0],\n",
    "])\n",
    "\n",
    "v = Matrix([\n",
    "    [-I/sqrt(2), I/sqrt(2)],\n",
    "    [I/sqrt(2), I/sqrt(2)]\n",
    "])\n",
    "assert Dagger(v) * v == Matrix([[1, 0], [0, 1]])\n",
    "\n",
    "display(\n",
    "    TensorProduct(v, v) * cy * TensorProduct(v, v) - inv_cy\n",
    ")\n"
   ]
  }
 ],
 "metadata": {
  "kernelspec": {
   "display_name": ".venv",
   "language": "python",
   "name": "python3"
  },
  "language_info": {
   "codemirror_mode": {
    "name": "ipython",
    "version": 3
   },
   "file_extension": ".py",
   "mimetype": "text/x-python",
   "name": "python",
   "nbconvert_exporter": "python",
   "pygments_lexer": "ipython3",
   "version": "3.10.4"
  }
 },
 "nbformat": 4,
 "nbformat_minor": 2
}
