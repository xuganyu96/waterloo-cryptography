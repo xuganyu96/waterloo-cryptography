{
 "cells": [
  {
   "cell_type": "code",
   "execution_count": 1,
   "metadata": {},
   "outputs": [],
   "source": [
    "from sympy import Matrix, sqrt\n",
    "from sympy.physics.quantum import TensorProduct\n",
    "from quantum import controlled_u, inverted_controlled_u, PAULI_X, HADAMARD, PAULI_Z"
   ]
  },
  {
   "cell_type": "markdown",
   "metadata": {},
   "source": [
    "# Bell's basis\n",
    "Consider the following quantum circuit on a 2-qubit system:\n",
    "\n",
    "```\n",
    "-----*-----|H|-----\n",
    "     |\n",
    "----|X|------------\n",
    "```"
   ]
  },
  {
   "cell_type": "code",
   "execution_count": 2,
   "metadata": {},
   "outputs": [
    {
     "data": {
      "text/latex": [
       "$\\displaystyle \\left[\\begin{matrix}\\frac{\\sqrt{2}}{2} & 0 & 0 & \\frac{\\sqrt{2}}{2}\\\\0 & \\frac{\\sqrt{2}}{2} & \\frac{\\sqrt{2}}{2} & 0\\\\\\frac{\\sqrt{2}}{2} & 0 & 0 & - \\frac{\\sqrt{2}}{2}\\\\0 & \\frac{\\sqrt{2}}{2} & - \\frac{\\sqrt{2}}{2} & 0\\end{matrix}\\right]$"
      ],
      "text/plain": [
       "Matrix([\n",
       "[sqrt(2)/2,         0,          0,  sqrt(2)/2],\n",
       "[        0, sqrt(2)/2,  sqrt(2)/2,          0],\n",
       "[sqrt(2)/2,         0,          0, -sqrt(2)/2],\n",
       "[        0, sqrt(2)/2, -sqrt(2)/2,          0]])"
      ]
     },
     "metadata": {},
     "output_type": "display_data"
    }
   ],
   "source": [
    "bell = TensorProduct(HADAMARD, Matrix.eye(2)) * controlled_u(PAULI_X)\n",
    "display(bell)"
   ]
  },
  {
   "cell_type": "markdown",
   "metadata": {},
   "source": [
    "# Super dense coding\n",
    "Alice has 2 bits. Bob can prepare an entangled 2-qubit system, send one qubit to Alice. After Alice applies some unitary to this qubit, and returns it back to Bob, Bob can recover Alice's 2 bits by measuring the 2-qubit system:\n",
    "\n",
    "![](./assets/super-dense-coding.jpeg)"
   ]
  },
  {
   "cell_type": "code",
   "execution_count": 3,
   "metadata": {},
   "outputs": [
    {
     "data": {
      "text/plain": [
       "\"Alice's bits are 00; Bob's final state is: \""
      ]
     },
     "metadata": {},
     "output_type": "display_data"
    },
    {
     "data": {
      "text/latex": [
       "$\\displaystyle \\left[\\begin{matrix}1\\\\0\\\\0\\\\0\\end{matrix}\\right]$"
      ],
      "text/plain": [
       "Matrix([\n",
       "[1],\n",
       "[0],\n",
       "[0],\n",
       "[0]])"
      ]
     },
     "metadata": {},
     "output_type": "display_data"
    },
    {
     "data": {
      "text/plain": [
       "\"Alice's bits are 01; Bob's final state is: \""
      ]
     },
     "metadata": {},
     "output_type": "display_data"
    },
    {
     "data": {
      "text/latex": [
       "$\\displaystyle \\left[\\begin{matrix}0\\\\1\\\\0\\\\0\\end{matrix}\\right]$"
      ],
      "text/plain": [
       "Matrix([\n",
       "[0],\n",
       "[1],\n",
       "[0],\n",
       "[0]])"
      ]
     },
     "metadata": {},
     "output_type": "display_data"
    },
    {
     "data": {
      "text/plain": [
       "\"Alice's bits are 10; Bob's final state is: \""
      ]
     },
     "metadata": {},
     "output_type": "display_data"
    },
    {
     "data": {
      "text/latex": [
       "$\\displaystyle \\left[\\begin{matrix}0\\\\0\\\\1\\\\0\\end{matrix}\\right]$"
      ],
      "text/plain": [
       "Matrix([\n",
       "[0],\n",
       "[0],\n",
       "[1],\n",
       "[0]])"
      ]
     },
     "metadata": {},
     "output_type": "display_data"
    },
    {
     "data": {
      "text/plain": [
       "\"Alice's bits are 11; Bob's final state is: \""
      ]
     },
     "metadata": {},
     "output_type": "display_data"
    },
    {
     "data": {
      "text/latex": [
       "$\\displaystyle \\left[\\begin{matrix}0\\\\0\\\\0\\\\-1\\end{matrix}\\right]$"
      ],
      "text/plain": [
       "Matrix([\n",
       "[ 0],\n",
       "[ 0],\n",
       "[ 0],\n",
       "[-1]])"
      ]
     },
     "metadata": {},
     "output_type": "display_data"
    }
   ],
   "source": [
    "psi = Matrix([1/sqrt(2), 0, 0, 1/sqrt(2)])\n",
    "\n",
    "def super_dense_coding(a: int, b: int):\n",
    "    bob = psi\n",
    "    if a:\n",
    "        bob = TensorProduct(PAULI_X, Matrix.eye(2)) * bob\n",
    "    if b:\n",
    "        bob = TensorProduct(PAULI_Z, Matrix.eye(2)) * bob\n",
    "    bob = TensorProduct(Matrix.eye(2), HADAMARD) * inverted_controlled_u(PAULI_X) * bob\n",
    "    return bob\n",
    "\n",
    "for (a, b) in [\n",
    "    (0, 0), (0, 1), (1, 0), (1, 1)\n",
    "]:\n",
    "    display(f\"Alice's bits are {a}{b}; Bob's final state is: \", super_dense_coding(a, b))\n"
   ]
  },
  {
   "cell_type": "markdown",
   "metadata": {},
   "source": [
    "# Teleportation\n",
    "![teleportation](./assets/teleportation.png)"
   ]
  },
  {
   "cell_type": "code",
   "execution_count": 17,
   "metadata": {},
   "outputs": [
    {
     "data": {
      "text/latex": [
       "$\\displaystyle \\left[\\begin{matrix}\\frac{\\alpha_{0}}{2}\\\\\\frac{\\alpha_{1}}{2}\\\\\\frac{\\alpha_{1}}{2}\\\\\\frac{\\alpha_{0}}{2}\\\\\\frac{\\alpha_{0}}{2}\\\\- \\frac{\\alpha_{1}}{2}\\\\- \\frac{\\alpha_{1}}{2}\\\\\\frac{\\alpha_{0}}{2}\\end{matrix}\\right]$"
      ],
      "text/plain": [
       "Matrix([\n",
       "[ alpha_0/2],\n",
       "[ alpha_1/2],\n",
       "[ alpha_1/2],\n",
       "[ alpha_0/2],\n",
       "[ alpha_0/2],\n",
       "[-alpha_1/2],\n",
       "[-alpha_1/2],\n",
       "[ alpha_0/2]])"
      ]
     },
     "metadata": {},
     "output_type": "display_data"
    }
   ],
   "source": [
    "from sympy import Symbol\n",
    "\n",
    "alpha0, alpha1 = Symbol(\"alpha_0\", complex=True), Symbol(\"alpha_1\", complex=True)\n",
    "alice_qubit = Matrix([alpha0, alpha1])\n",
    "init_qubit = Matrix([1/sqrt(2), 0, 0, 1/sqrt(2)])\n",
    "\n",
    "# Step 1: Alice combines her qubit and the first shared qubit into a 2-qubit system\n",
    "complete_system = TensorProduct(alice_qubit, init_qubit)\n",
    "\n",
    "# Step 2: Alice applies CNOT and (H x I) to her two qubits\n",
    "#   in other words, Alice measures her 2 qubits in Bell's basis\n",
    "complete_system = TensorProduct(TensorProduct(HADAMARD, Matrix.eye(2)), Matrix.eye(2)) * TensorProduct(controlled_u(PAULI_X), Matrix.eye(2)) * complete_system\n",
    "\n",
    "display(complete_system)"
   ]
  },
  {
   "cell_type": "markdown",
   "metadata": {},
   "source": [
    "The state of the 3-qubit system right before Alice measures her 2 qubits is:\n",
    "\n",
    "$$\n",
    "\\begin{aligned}\n",
    "\\vert \\psi \\rangle\n",
    "&= \\frac{\\alpha_0}{2} \\vert 000 \\rangle\n",
    "+ \\frac{\\alpha_1}{2} \\vert 001 \\rangle\n",
    "+ \\frac{\\alpha_1}{2} \\vert 010 \\rangle\n",
    "+ \\frac{\\alpha_0}{2} \\vert 011 \\rangle\n",
    "+ \\frac{\\alpha_0}{2} \\vert 100 \\rangle\n",
    "- \\frac{\\alpha_1}{2} \\vert 101 \\rangle\n",
    "- \\frac{\\alpha_1}{2} \\vert 110 \\rangle\n",
    "+ \\frac{\\alpha_0}{2} \\vert 111 \\rangle\n",
    "\\end{aligned}\n",
    "$$\n",
    "\n",
    "When Alice measures her 2 qubits, there are four possible outcomes:\n",
    "- Alice observes $\\vert 00 \\rangle$, the residual state is $\\frac{\\alpha_0}{2} \\vert 0 \\rangle + \\frac{\\alpha_1}{2} \\vert 1 \\rangle$\n",
    "- Alice observes $\\vert 01 \\rangle$, the residual state is $\\frac{\\alpha_1}{2} \\vert 0 \\rangle + \\frac{\\alpha_0}{2} \\vert 1 \\rangle$\n",
    "- Alice observes $\\vert 10 \\rangle$, the residual state is $\\frac{\\alpha_0}{2} \\vert 0 \\rangle - \\frac{\\alpha_1}{2} \\vert 1 \\rangle$\n",
    "- Alice observes $\\vert 11 \\rangle$, the residual state is $-\\frac{\\alpha_1}{2} \\vert 0 \\rangle + \\frac{\\alpha_0}{2} \\vert 1 \\rangle$\n",
    "\n",
    "Each outcomes has a probability of $\\frac{1}{4}$. The residual state is the state of Bob's qubit. Alice can now transmit her measurement (in 2 classical bits) to Bob, and Bob an apply the appropriate unitary operator:\n",
    "- If Alice's first classical bit is 1, then apply Pauli's $X$\n",
    "- If Alice's second classical bit is 1, then apply Pauli's $Z$"
   ]
  }
 ],
 "metadata": {
  "kernelspec": {
   "display_name": ".venv",
   "language": "python",
   "name": "python3"
  },
  "language_info": {
   "codemirror_mode": {
    "name": "ipython",
    "version": 3
   },
   "file_extension": ".py",
   "mimetype": "text/x-python",
   "name": "python",
   "nbconvert_exporter": "python",
   "pygments_lexer": "ipython3",
   "version": "3.10.4"
  }
 },
 "nbformat": 4,
 "nbformat_minor": 2
}
