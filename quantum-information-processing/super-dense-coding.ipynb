{
 "cells": [
  {
   "cell_type": "markdown",
   "metadata": {},
   "source": [
    "# Super dense coding\n",
    "Alice has 2 bits. Bob can prepare an entangled 2-qubit system, send one qubit to Alice. After Alice applies some unitary to this qubit, and returns it back to Bob, Bob can recover Alice's 2 bits by measuring the 2-qubit system:\n",
    "\n",
    "![](./assets/super-dense-coding.jpeg)"
   ]
  },
  {
   "cell_type": "code",
   "execution_count": 1,
   "metadata": {},
   "outputs": [
    {
     "data": {
      "text/plain": [
       "\"Alice's bits are 00; Bob's final state is: \""
      ]
     },
     "metadata": {},
     "output_type": "display_data"
    },
    {
     "data": {
      "text/latex": [
       "$\\displaystyle \\left[\\begin{matrix}1\\\\0\\\\0\\\\0\\end{matrix}\\right]$"
      ],
      "text/plain": [
       "Matrix([\n",
       "[1],\n",
       "[0],\n",
       "[0],\n",
       "[0]])"
      ]
     },
     "metadata": {},
     "output_type": "display_data"
    },
    {
     "data": {
      "text/plain": [
       "\"Alice's bits are 01; Bob's final state is: \""
      ]
     },
     "metadata": {},
     "output_type": "display_data"
    },
    {
     "data": {
      "text/latex": [
       "$\\displaystyle \\left[\\begin{matrix}0\\\\1\\\\0\\\\0\\end{matrix}\\right]$"
      ],
      "text/plain": [
       "Matrix([\n",
       "[0],\n",
       "[1],\n",
       "[0],\n",
       "[0]])"
      ]
     },
     "metadata": {},
     "output_type": "display_data"
    },
    {
     "data": {
      "text/plain": [
       "\"Alice's bits are 10; Bob's final state is: \""
      ]
     },
     "metadata": {},
     "output_type": "display_data"
    },
    {
     "data": {
      "text/latex": [
       "$\\displaystyle \\left[\\begin{matrix}0\\\\0\\\\1\\\\0\\end{matrix}\\right]$"
      ],
      "text/plain": [
       "Matrix([\n",
       "[0],\n",
       "[0],\n",
       "[1],\n",
       "[0]])"
      ]
     },
     "metadata": {},
     "output_type": "display_data"
    },
    {
     "data": {
      "text/plain": [
       "\"Alice's bits are 11; Bob's final state is: \""
      ]
     },
     "metadata": {},
     "output_type": "display_data"
    },
    {
     "data": {
      "text/latex": [
       "$\\displaystyle \\left[\\begin{matrix}0\\\\0\\\\0\\\\-1\\end{matrix}\\right]$"
      ],
      "text/plain": [
       "Matrix([\n",
       "[ 0],\n",
       "[ 0],\n",
       "[ 0],\n",
       "[-1]])"
      ]
     },
     "metadata": {},
     "output_type": "display_data"
    }
   ],
   "source": [
    "from sympy import Matrix, sqrt\n",
    "from sympy.physics.quantum import TensorProduct\n",
    "\n",
    "psi = Matrix([1/sqrt(2), 0, 0, 1/sqrt(2)])\n",
    "pauli_x = Matrix([[0, 1], [1, 0]])\n",
    "pauli_z = Matrix([[1, 0],[0, -1]])\n",
    "hadamard = Matrix([\n",
    "    [1/sqrt(2), 1/sqrt(2)],\n",
    "    [1/sqrt(2), -1/sqrt(2)]\n",
    "])\n",
    "i2 = Matrix([[1, 0], [0, 1]])\n",
    "inv_cnot = Matrix([\n",
    "    [1, 0, 0, 0],\n",
    "    [0, 0, 0, 1],\n",
    "    [0, 0, 1, 0],\n",
    "    [0, 1, 0, 0],\n",
    "])\n",
    "# display(psi, pauli_x, pauli_z, hadamard)\n",
    "\n",
    "def super_dense_coding(a: int, b: int):\n",
    "    bob = psi\n",
    "    if a:\n",
    "        bob = TensorProduct(pauli_x, Matrix.eye(2)) * bob\n",
    "    if b:\n",
    "        bob = TensorProduct(pauli_z, Matrix.eye(2)) * bob\n",
    "    bob = TensorProduct(Matrix.eye(2), hadamard) * inv_cnot * bob\n",
    "    return bob\n",
    "\n",
    "for (a, b) in [\n",
    "    (0, 0), (0, 1), (1, 0), (1, 1)\n",
    "]:\n",
    "    display(f\"Alice's bits are {a}{b}; Bob's final state is: \", super_dense_coding(a, b))\n"
   ]
  }
 ],
 "metadata": {
  "kernelspec": {
   "display_name": ".venv",
   "language": "python",
   "name": "python3"
  },
  "language_info": {
   "codemirror_mode": {
    "name": "ipython",
    "version": 3
   },
   "file_extension": ".py",
   "mimetype": "text/x-python",
   "name": "python",
   "nbconvert_exporter": "python",
   "pygments_lexer": "ipython3",
   "version": "3.10.4"
  }
 },
 "nbformat": 4,
 "nbformat_minor": 2
}
