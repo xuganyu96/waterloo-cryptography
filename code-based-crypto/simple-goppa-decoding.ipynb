{
 "cells": [
  {
   "cell_type": "markdown",
   "metadata": {},
   "source": [
    "# Understanding binary Goppa decoding\n",
    "This notebook follows the short [introduction to binary Goppa decoding](./references/Understanding%20binary-Goppa%20decoding.pdf) written by DJB."
   ]
  },
  {
   "cell_type": "markdown",
   "metadata": {},
   "source": [
    "# Preliminaries\n",
    "\n",
    "## The Bernoulli rule\n",
    "Let $K$ be some field, and let $K[x]$ denote the ring of polynomial with coefficients in the field $K$. Let $f, g \\in K[x]$ be two polynomials. The Bernoulli rule is concerned with evaluating the rational function $f/g$ at some point $\\alpha$ where $f(\\alpha) = g(\\alpha) = 0$:\n",
    "\n",
    "> (**The Bernoulli rule**) If $\\alpha \\in K$ is such that $f(\\alpha) = g(\\alpha) = 0$ and $g^\\prime(\\alpha) \\neq 0$, then $(f/g)(\\alpha) = \\frac{f^\\prime(\\alpha)}{g^\\prime(\\alpha)}$, where $f^\\prime$ is the derivative of $f$\n",
    "\n",
    "This is also commonly referred to as the L'Hôpital's rule, although [the origin of this rule traces back to Johann Bernoulli](https://en.wikipedia.org/wiki/L%27H%C3%B4pital%27s_rule)."
   ]
  },
  {
   "cell_type": "markdown",
   "metadata": {},
   "source": [
    "# Polynomial interpolation\n",
    "In this section we show that a degree $n-1$ polynomial can be uniquely determined using $n$ distinct points, then present the algorithm to compute such points.\n",
    "\n",
    "Let $(\\alpha_1, \\alpha_2, \\ldots, \\alpha_n) \\in K$ be $n$ distinct points, and $r_1, r_2, \\ldots, r_n$ be $n$ (not necessarily distinct) values, then there exists a polynomial $f$ such that $\\deg(f) < n$ and $f(\\alpha_i) = r_i$ for all $1 \\leq i \\leq n$. $f$ can be explicitly expressed by the formula:\n",
    "\n",
    "$$\n",
    "f = \\sum_{i = 1}^{n}  \\left\\lparen r_i\n",
    "    \\prod_{j \\neq i} \\frac{(x - \\alpha_j)}{(\\alpha_i - \\alpha_j)}\n",
    "\\right\\rparen\n",
    "$$\n",
    "\n",
    "We can do a quick sanity check: $\\prod_{j \\neq i} \\frac{(x - \\alpha_j)}{(\\alpha_i - \\alpha_j)}$ is a degree $n - 1$ polynomial, so $f$ is a sum of $n$ of degree $n-1$ polynomial, which makes $\\deg(f) \\leq n-1$. it is straightforward to verify that $f(\\alpha_i) = r_i$ for all $1 \\leq i \\leq n$.\n",
    "\n",
    "If there exists another polynomial $g$ such that $\\deg(g) < n$, $g \\neq f$, and $g(\\alpha_i) = f(\\alpha_i) = r_i$ for all $1 \\leq i \\leq n$, then $g - f$ is a non-zero polynomial whose degree is less than $n$ but has $n$ distinct roots at $\\alpha_1, \\alpha_2, \\ldots, \\alpha_n$, which contradicts the [fundamental theorem of algebra](https://en.wikipedia.org/wiki/Fundamental_theorem_of_algebra). Therefore, $f$ must be unique."
   ]
  },
  {
   "cell_type": "code",
   "execution_count": 1,
   "metadata": {},
   "outputs": [],
   "source": [
    "# TODO: use sympy (or don't!) to implement polynomial interpolation\n",
    "def interpolate(points):\n",
    "    pass"
   ]
  },
  {
   "cell_type": "markdown",
   "metadata": {},
   "source": [
    "# Best Approximant Theorem\n",
    "Suppose $A, B \\in K[x]$ are polynomials such that $\\deg(B) < \\deg(A)$. The best approximant theorem tries to find polynomials $a, b \\in K[x]$ of lower degree $t$ such that $aB - bA$ has low degree. $a, b$ are called approximant because if $aB - bA$ has low degree, then $\\frac{a}{b}$ is a good approximation of $\\frac{A}{B}$.\n",
    "\n",
    "**Best approximant theorem.** Let $K$ be a field and $K[x]$ denote the ring of polynomials. For every $A, B \\in K[x]$ such that $\\deg(A) > \\deg(B)$ and non-zero integer $t \\geq 0$ such that $2t < \\deg(A)$, there exists polynomials $a, b \\in K[x]$ such that:\n",
    "1. $\\deg(a) \\leq t, \\deg(b) < t$\n",
    "1. $\\gcd(a, b) = 1$\n",
    "1. $\\deg(aB - bA) < \\deg(A) - t$ \n",
    "\n",
    "Furthermore, if there also exist $c, d \\in K[x]$ such that $\\deg(c) \\leq t$ and $\\deg(cB - dA) < \\deg(A) - t$, then $(c, d) = (\\lambda a, \\lambda b)$ for some $\\lambda \\in K[x]$.\n",
    "\n",
    "The best approximant theorem states that there exists a unique pair of lower-degree co-prime polynomials $a, b$ that can approximate $A, B$ to the specified degree, and any other pairs that can approximate $A, B$ to that degree must be multiples of $a, b$.\n",
    "\n",
    "TODO: proof"
   ]
  },
  {
   "cell_type": "code",
   "execution_count": 2,
   "metadata": {},
   "outputs": [],
   "source": [
    "# TODO: implement best approximant theorem\n",
    "def best_approximant(A, B):\n",
    "    pass"
   ]
  },
  {
   "cell_type": "markdown",
   "metadata": {},
   "source": [
    "# Interpolation with error\n",
    "Using $n$ points among which at most $t$ points are corrupted, one can reconstruct the underlying polynomial if its degree is at most $n - 2t$.\n",
    "\n",
    "Let $n, t$ be non-negative integers such that $2t < n$. Let $f \\in K[x]$ be a polynomial such that $\\deg(f) < n - 2t$. Given $n$ distinct points $(\\alpha_1, \\alpha_2, \\ldots, \\alpha_n) \\in K$ and $(r_1, r_2, \\ldots, r_n)$ such that $(r_1, r_2, \\ldots, r_n)$ differ from $(f(\\alpha_1), f(\\alpha_1), \\ldots, f(\\alpha_n))$ at no more than $t$ positions, then the following algorithm can be used to recover $f$.\n",
    "\n",
    "1. Use interpolation to compute $B \\in K[x]$ such that $B(\\alpha_i) = r_i$ for all $1 \\leq i \\leq n$\n",
    "1. Compute $A = \\prod_{i=1}^{n}(x - \\alpha_i)$\n",
    "1. Compute approximants $a, b \\in K[x]$ such that $\\deg(a) \\leq t$, $\\gcd(a, b) = 1$, and $\\deg(aB - bA) < n - t$\n",
    "1. $B - bA/a$ is $f$\n",
    "\n",
    "Furthermore, for $1 \\leq i \\leq n$, $(B - f)(\\alpha_i) \\neq 0$ if and only if $a(\\alpha_i) = 0$\n",
    "\n",
    "TODO: Proof\n"
   ]
  },
  {
   "cell_type": "code",
   "execution_count": null,
   "metadata": {},
   "outputs": [],
   "source": [
    "# TODO: implement interpolation with error\n",
    "def interpolate_with_error(points):\n",
    "    pass"
   ]
  }
 ],
 "metadata": {
  "kernelspec": {
   "display_name": ".venv",
   "language": "python",
   "name": "python3"
  },
  "language_info": {
   "codemirror_mode": {
    "name": "ipython",
    "version": 3
   },
   "file_extension": ".py",
   "mimetype": "text/x-python",
   "name": "python",
   "nbconvert_exporter": "python",
   "pygments_lexer": "ipython3",
   "version": "3.10.4"
  }
 },
 "nbformat": 4,
 "nbformat_minor": 2
}
