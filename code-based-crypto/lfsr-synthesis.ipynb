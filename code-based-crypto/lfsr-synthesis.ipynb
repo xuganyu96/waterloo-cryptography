{
 "cells": [
  {
   "cell_type": "markdown",
   "metadata": {},
   "source": [
    "# LFSR synthesis\n",
    "Let $\\mathbb{F}$ be a finite field. Let $(s_0, s_1, \\ldots, s_{N-1}) \\in \\mathbb{F}$ be a finite sequence, find the shortest LFSR $(c_1, c_2, \\ldots, c_{L_N}) \\in \\mathbb{F}$ such that:\n",
    "\n",
    "$$\n",
    "s_j + \\sum_{i=1}^{L_N} c_is_{j-i} = 0 \\; (L_N \\leq j \\leq N-1)\n",
    "$$"
   ]
  },
  {
   "cell_type": "code",
   "execution_count": 1,
   "metadata": {},
   "outputs": [],
   "source": [
    "from sympy import GF, Poly, Symbol\n",
    "import random\n",
    "\n",
    "random.seed(0)\n",
    "\n",
    "SEQLEN = 200\n",
    "PRIME_MODULUS = 7\n",
    "gf = GF(PRIME_MODULUS)\n",
    "x = Symbol(\"x\")"
   ]
  },
  {
   "cell_type": "code",
   "execution_count": 2,
   "metadata": {},
   "outputs": [
    {
     "name": "stdout",
     "output_type": "stream",
     "text": [
      "s[0] should be 6\n",
      "s[1] should be 3\n",
      "s[2] should be 6\n",
      "s[3] should be 3\n",
      "s[4] should be 0\n",
      "s[5] should be 2\n",
      "s[6] should be 4\n",
      "s[7] should be 3\n",
      "s[8] should be 3\n",
      "s[9] should be 6\n"
     ]
    },
    {
     "data": {
      "text/latex": [
       "$\\displaystyle \\operatorname{Poly}{\\left( x^{5} - 3 x^{4} + x^{2} + 2 x + 1, x, domain=\\mathbb{F}_{7} \\right)}$"
      ],
      "text/plain": [
       "Poly(x**5 - 3*x**4 + x**2 + 2*x + 1, x, modulus=7)"
      ]
     },
     "metadata": {},
     "output_type": "display_data"
    },
    {
     "name": "stdout",
     "output_type": "stream",
     "text": [
      "s[5] is 0 mod 7\n",
      "s[6] is 4 mod 7\n",
      "s[7] is 0 mod 7\n",
      "s[8] is 1 mod 7\n",
      "s[9] is 4 mod 7\n"
     ]
    }
   ],
   "source": [
    "VERBOSE = False\n",
    "# VERBOSE = True\n",
    "\n",
    "def get_next_digit(connpoly, internals):\n",
    "    \"\"\"Given an LFSR and its internal state return the next digit\"\"\"\n",
    "    if connpoly.degree(x) == 0:\n",
    "        return gf(0)\n",
    "    if connpoly.degree(x) > len(internals):\n",
    "        raise ValueError(f\"LFSR has {connpoly.degree()} connections but internal state only has {len(internals)} elements\")\n",
    "    # the constant term is not a connection coefficient\n",
    "    conn_coeffs = connpoly.all_coeffs()\n",
    "    output = gf(0)\n",
    "    for deg in range(1, connpoly.degree(x)+1):\n",
    "        coeff = conn_coeffs[-1-deg]\n",
    "        digit = internals[-deg]\n",
    "        if VERBOSE:\n",
    "            print(f\"c[{deg}] is {coeff}, s[-{deg}] is {digit}\")\n",
    "        output += conn_coeffs[-1-deg] * internals[-deg]\n",
    "    return -output\n",
    "\n",
    "def init_bm(symbol, domain):\n",
    "    cx = Poly(1, symbol, domain=domain)\n",
    "    n = 0\n",
    "    bx = Poly(1, symbol, domain=domain)\n",
    "    dm = domain(1)\n",
    "    y = 1\n",
    "    return cx, n, bx, dm, y\n",
    "\n",
    "def bm(target, symbol, domain):\n",
    "    cx, n, bx, dm, y = init_bm(symbol, domain)\n",
    "\n",
    "    while n < len(target):\n",
    "        dn = target[n] + get_next_digit(cx, target[:n])\n",
    "        if VERBOSE:\n",
    "            print(f\"d[{n}] is {dn}\")\n",
    "        if dn == 0:\n",
    "            # use the same LFSR\n",
    "            y += 1\n",
    "        elif 2 * cx.degree(x) > len(target):\n",
    "            # need to adjust LFSR but no length change\n",
    "            cx = Poly(cx - dn * (dm ** -1) * (x ** y) * bx, x, domain=gf)\n",
    "            y += 1\n",
    "        else:\n",
    "            # length change needed\n",
    "            tx = cx\n",
    "            cx = Poly(cx - dn * (dm ** -1) * (x ** y) * bx, x, domain=gf)\n",
    "            bx = tx\n",
    "            dm = dn\n",
    "            y = 1\n",
    "        n += 1\n",
    "\n",
    "    return cx\n",
    "\n",
    "# generate a random sequence\n",
    "target = [random.randint(0, PRIME_MODULUS-1) for _ in range(10)]\n",
    "for i, digit in enumerate(target):\n",
    "    print(f\"s[{i}] should be {digit}\")\n",
    "minlfsr = bm(target, x, gf)\n",
    "display(minlfsr)\n",
    "\n",
    "for j in range(minlfsr.degree(x), len(target)):\n",
    "    next_digit = get_next_digit(minlfsr, target[:j])\n",
    "    print(f\"s[{j}] is {next_digit}\")"
   ]
  }
 ],
 "metadata": {
  "kernelspec": {
   "display_name": ".venv",
   "language": "python",
   "name": "python3"
  },
  "language_info": {
   "codemirror_mode": {
    "name": "ipython",
    "version": 3
   },
   "file_extension": ".py",
   "mimetype": "text/x-python",
   "name": "python",
   "nbconvert_exporter": "python",
   "pygments_lexer": "ipython3",
   "version": "3.10.4"
  }
 },
 "nbformat": 4,
 "nbformat_minor": 2
}
