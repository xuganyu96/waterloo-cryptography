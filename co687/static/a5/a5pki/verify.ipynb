{
 "cells": [
  {
   "cell_type": "code",
   "execution_count": 37,
   "id": "74824197-23ca-4000-80f8-af639f9ec731",
   "metadata": {},
   "outputs": [
    {
     "name": "stdout",
     "output_type": "stream",
     "text": [
      "Trying to verify message1.signed.txt\n",
      "Message can be trusted\n",
      "Trying to verify message2.signed.txt\n",
      "The message is not authentic against jeanne's public key\n",
      "Trying to verify message3.signed.txt\n",
      "Certificate is not authentic\n",
      "Trying to verify message4.signed.txt\n",
      "Certificate has expired\n",
      "Trying to verify message5.signed.txt\n",
      "Certificate is not signed by dstebila\n"
     ]
    },
    {
     "data": {
      "text/plain": [
       "False"
      ]
     },
     "execution_count": 37,
     "metadata": {},
     "output_type": "execute_result"
    }
   ],
   "source": [
    "from datetime import datetime\n",
    "import json\n",
    "import sys\n",
    "from cryptography.hazmat.primitives.asymmetric import ec\n",
    "from cryptography.hazmat.primitives import hashes\n",
    "from cryptography.hazmat.primitives.asymmetric.utils import encode_dss_signature\n",
    "from cryptography.hazmat.primitives import serialization\n",
    "from cryptography.exceptions import InvalidSignature\n",
    "\n",
    "# Helper function for converting strings into byte arrays needed by cryptographic functions\n",
    "def string_to_bytes(s):\n",
    "    return s.encode('utf-8')\n",
    "\n",
    "# This function will ensure that we represent the JSON dictionary as exactly the\n",
    "# same string every time, otherwise we'd get different hashes while signing\n",
    "def canonicalize_json(j):\n",
    "    return json.dumps(j, sort_keys=True)\n",
    "\n",
    "def verify(ca_identity, signed_message_filename): \n",
    "\n",
    "    print(\"Trying to verify \" + signed_message_filename)\n",
    "\n",
    "    # Load the signed message data\n",
    "    with open(signed_message_filename, 'r') as fh:\n",
    "        signed_message = json.load(fh)\n",
    "\n",
    "    # Read out the identity of the signer and load their certificate\n",
    "    signer_identity = signed_message['signer identity']\n",
    "    with open(signer_identity + '.cert', 'r') as fh:\n",
    "        signer_cert = json.load(fh)\n",
    "    # Format the certificate body for signing as a byte array in a canonical order\n",
    "    cert_body_to_be_signed = string_to_bytes(canonicalize_json(signer_cert[\"body\"]))\n",
    "\n",
    "    # Read out the identity of the issuer and load their public key\n",
    "    issuer_identity = signer_cert['body']['issuer identity']\n",
    "    signer_pk = serialization.load_pem_public_key(string_to_bytes(signer_cert['body']['public key']))\n",
    "    with open(ca_identity + '.pk', 'r') as fh:\n",
    "        ca_public_key = serialization.load_pem_public_key(string_to_bytes(fh.read()))\n",
    "\n",
    "    # YOUR SOLUTION STARTS HERE\n",
    "    msg_body = signed_message[\"message\"]\n",
    "    msg_sig_raw = signed_message[\"signature\"]\n",
    "    msg_sig = encode_dss_signature(msg_sig_raw[\"r\"], msg_sig_raw[\"s\"])\n",
    "    ecdsa = ec.ECDSA(hashes.SHA256())\n",
    "    try:\n",
    "        # Check that the message is authentic\n",
    "        signer_pk.verify(msg_sig, string_to_bytes(msg_body), ecdsa)\n",
    "    except InvalidSignature:\n",
    "        print(f\"The message is not authentic against {signer_identity}'s public key\")\n",
    "        return False\n",
    "\n",
    "    validity_start = datetime.fromisoformat(signer_cert[\"body\"][\"validity start\"])\n",
    "    validity_end = datetime.fromisoformat(signer_cert[\"body\"][\"validity end\"])\n",
    "    if datetime.now() < validity_start or datetime.now() > validity_end:\n",
    "        print(\"Certificate has expired\")\n",
    "        return False\n",
    "    if issuer_identity != \"dstebila\":\n",
    "        print(\"Certificate is not signed by dstebila\")\n",
    "        return False\n",
    "    cert_sig = encode_dss_signature(\n",
    "        signer_cert[\"signature\"][\"r\"],\n",
    "        signer_cert[\"signature\"][\"s\"],\n",
    "    )\n",
    "    try:\n",
    "        ca_public_key.verify(cert_sig, cert_body_to_be_signed, ecdsa)\n",
    "    except InvalidSignature:\n",
    "        print(f\"Certificate is not authentic\")\n",
    "        return False\n",
    "\n",
    "    print(\"Message can be trusted\")\n",
    "\n",
    "verify(\"dstebila\", \"message1.signed.txt\")\n",
    "verify(\"dstebila\", \"message2.signed.txt\")\n",
    "verify(\"dstebila\", \"message3.signed.txt\")\n",
    "verify(\"dstebila\", \"message4.signed.txt\")\n",
    "verify(\"dstebila\", \"message5.signed.txt\")\n"
   ]
  }
 ],
 "metadata": {
  "kernelspec": {
   "display_name": ".venv",
   "language": "python",
   "name": "python3"
  },
  "language_info": {
   "codemirror_mode": {
    "name": "ipython",
    "version": 3
   },
   "file_extension": ".py",
   "mimetype": "text/x-python",
   "name": "python",
   "nbconvert_exporter": "python",
   "pygments_lexer": "ipython3",
   "version": "3.10.4"
  }
 },
 "nbformat": 4,
 "nbformat_minor": 5
}
