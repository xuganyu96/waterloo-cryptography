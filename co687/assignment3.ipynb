{
 "cells": [
  {
   "cell_type": "code",
   "execution_count": 27,
   "metadata": {},
   "outputs": [
    {
     "data": {
      "text/plain": [
       "3"
      ]
     },
     "execution_count": 27,
     "metadata": {},
     "output_type": "execute_result"
    }
   ],
   "source": [
    "import math\n",
    "\n",
    "def fast_intsqrt(n: int) -> int | None:\n",
    "    \"\"\"return the integer square root if it exists; else return 0\n",
    "    \"\"\"\n",
    "    if n < 0:\n",
    "        return None\n",
    "    # Binary search the smallest x such that x^2 >= n\n",
    "    x = jump = n // 2 + 1\n",
    "    print(x, jump)\n",
    "    while jump > 0:\n",
    "        while x - jump >= 0 and (x - jump) * (x - jump) >= n:\n",
    "            x -= jump\n",
    "            print(x, jump)\n",
    "        jump = jump // 2\n",
    "        print(x, jump)\n",
    "    \n",
    "    if x * x == n:\n",
    "        return x\n",
    "    return None\n"
   ]
  }
 ],
 "metadata": {
  "kernelspec": {
   "display_name": ".venv",
   "language": "python",
   "name": "python3"
  },
  "language_info": {
   "codemirror_mode": {
    "name": "ipython",
    "version": 3
   },
   "file_extension": ".py",
   "mimetype": "text/x-python",
   "name": "python",
   "nbconvert_exporter": "python",
   "pygments_lexer": "ipython3",
   "version": "3.10.4"
  }
 },
 "nbformat": 4,
 "nbformat_minor": 2
}
