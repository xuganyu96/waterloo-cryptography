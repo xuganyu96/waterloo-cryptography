{
 "cells": [
  {
   "cell_type": "markdown",
   "id": "ef015824-d0fb-49d2-84eb-b706ba1be75d",
   "metadata": {},
   "source": [
    "# Assignment 3 Question 1\n",
    "\n",
    "### CO 487/687 Applied Cryptography Fall 2023 \n",
    "\n",
    "This Jupyter notebook contains Python 3 code for Assignment 3 Question 1 on \"Symemtric Encryption in Python\".\n",
    "\n",
    "### Documentation\n",
    "\n",
    "- [Python cryptography library](https://cryptography.io/en/latest/)"
   ]
  },
  {
   "cell_type": "markdown",
   "id": "2948cd7d-5ce4-4c02-a6cf-e61c5bf8a673",
   "metadata": {},
   "source": [
    "The following code imports all the required functions for the assignment."
   ]
  },
  {
   "cell_type": "code",
   "execution_count": 1,
   "id": "9b7a43a4-5b20-4257-9df6-06784f4e604c",
   "metadata": {},
   "outputs": [],
   "source": [
    "import base64\n",
    "import getpass\n",
    "import os\n",
    "import sys\n",
    "from cryptography.hazmat.primitives import hashes\n",
    "from cryptography.hazmat.primitives.hmac import HMAC\n",
    "from cryptography.hazmat.primitives.kdf.pbkdf2 import PBKDF2HMAC\n",
    "from cryptography.hazmat.primitives.ciphers import Cipher, algorithms, modes    \n",
    "from cryptography.hazmat.primitives import padding\n",
    "from cryptography.hazmat.primitives import constant_time\n",
    "\n",
    "HKMAC_NITERS = 200000\n",
    "# Params of AES128\n",
    "AES_KEYSIZE = BLOCKSIZE = HMAC_KEYSIZE = 16\n",
    "BLOCKSIZE_BITS = 128\n",
    "# Params of SHA3-256\n",
    "TAGSIZE = 32"
   ]
  },
  {
   "cell_type": "markdown",
   "id": "2006d7f1-e4a6-4fec-acf8-4aa4edc0786c",
   "metadata": {},
   "source": [
    "These two functions convert a byte array into a printable string and back, which might be helpful to you since cryptographic routines often work with byte arrays."
   ]
  },
  {
   "cell_type": "code",
   "execution_count": 2,
   "id": "a4219e0e-2bf4-4488-82f2-43a6fcf6374c",
   "metadata": {},
   "outputs": [],
   "source": [
    "def bytes2string(b):\n",
    "    return base64.urlsafe_b64encode(b).decode('utf-8')\n",
    "\n",
    "def string2bytes(s):\n",
    "    return base64.urlsafe_b64decode(s.encode('utf-8'))"
   ]
  },
  {
   "cell_type": "markdown",
   "id": "a4774352-9e99-4800-b698-c684f39ec060",
   "metadata": {},
   "source": [
    "Implement the main encryption function below. Your function will take as input a string, and will output a string or dictionary containing all the values needed to decrypt (other than the password, of course). The code below will prompt the user to enter their password during encryption."
   ]
  },
  {
   "cell_type": "code",
   "execution_count": 3,
   "id": "071c13d4-2adc-4038-b6a6-4e4425fa750b",
   "metadata": {},
   "outputs": [],
   "source": [
    "def derive_cipher_suite(password: bytes, nonce: bytes | None = None):\n",
    "    \"\"\"Return the padder, the cipher, and the MAC from a single password\n",
    "\n",
    "    If an input nonce is given, it will be used for the Block cipher CTR mode;\n",
    "    otherwise a random nonce will be generated\n",
    "    \"\"\"\n",
    "    hkdf = PBKDF2HMAC(\n",
    "        algorithm=hashes.SHA3_256(),\n",
    "        length=AES_KEYSIZE + HMAC_KEYSIZE,  # we need two keys\n",
    "        iterations=HKMAC_NITERS,\n",
    "        salt=b\"\",  # TODO: need a place to store salt\n",
    "    )\n",
    "    key = hkdf.derive(password)\n",
    "    key_sign = key[:HMAC_KEYSIZE]\n",
    "    key_enc = key[HMAC_KEYSIZE:]\n",
    "    pad = padding.PKCS7(BLOCKSIZE_BITS)\n",
    "    nonce = os.urandom(BLOCKSIZE) if nonce is None else nonce\n",
    "    cipher = Cipher(algorithms.AES128(key_enc), modes.CTR(nonce))\n",
    "    mac = HMAC(key=key_sign, algorithm=hashes.SHA3_256())\n",
    "\n",
    "    return pad, cipher, nonce, mac\n",
    "\n",
    "def encrypt(message):\n",
    "    \n",
    "    # encode the string as a byte string, since cryptographic functions usually work on bytes\n",
    "    plaintext = message.encode('utf-8')\n",
    "\n",
    "    # Use getpass to prompt the user for a password\n",
    "    password = getpass.getpass(\"Enter password:\")\n",
    "    password2 = getpass.getpass(\"Enter password again:\")\n",
    "\n",
    "    # Do a quick check to make sure that the password is the same!\n",
    "    if password != password2:\n",
    "        sys.stderr.write(\"Passwords did not match\")\n",
    "        sys.exit()\n",
    "\n",
    "    ### START: This is what you have to change\n",
    "    \n",
    "    pad, cipher, nonce, mac = derive_cipher_suite(password.encode())\n",
    "    encryptor = cipher.encryptor()\n",
    "    padder = pad.padder()\n",
    "\n",
    "    plaintext = padder.update(plaintext) + padder.finalize()\n",
    "    ciphertext = encryptor.update(plaintext) + encryptor.finalize()\n",
    "    mac.update(ciphertext)\n",
    "    tag = mac.finalize()\n",
    "\n",
    "    return bytes2string(nonce + ciphertext + tag)\n",
    "    \n",
    "    ### END: This is what you have to change"
   ]
  },
  {
   "cell_type": "markdown",
   "id": "755c486e-533e-45cc-bfb2-84a3639fd7c2",
   "metadata": {},
   "source": [
    "Now we call the `encrypt` function with a message, and print out the ciphertext it generates."
   ]
  },
  {
   "cell_type": "code",
   "execution_count": 4,
   "id": "90218d89-3d57-4790-9b0c-d42a99b6a0e8",
   "metadata": {},
   "outputs": [
    {
     "name": "stdout",
     "output_type": "stream",
     "text": [
      "e3peon4UIfMayWmhmq3c881oJ1EcaAg3NcB2zXEIsU_zK3pKLj2b9989E74yPfnIHgS8MwKhjPLE5sOiXkSB-w==\n"
     ]
    }
   ],
   "source": [
    "mymessage = \"Hello, world!\"\n",
    "ciphertext = encrypt(mymessage)\n",
    "print(ciphertext)"
   ]
  },
  {
   "cell_type": "markdown",
   "id": "38ccdb8b-f692-4bea-9da2-4f466be0a931",
   "metadata": {},
   "source": [
    "Implement the main decryption function below.  Your function will take as input the string or dictionary output by `encrypt`, prompt the user to enter the password, and then do all the relevant cryptographic operations."
   ]
  },
  {
   "cell_type": "code",
   "execution_count": 5,
   "id": "7c96fa51-c307-4bd1-bba5-ce53fc4bfc18",
   "metadata": {},
   "outputs": [],
   "source": [
    "def decrypt(ciphertext):\n",
    "    # prompt the user for the password\n",
    "    password = getpass.getpass(\"Enter the password:\")\n",
    "\n",
    "    ### START: This is what you have to change\n",
    "    ciphertext = string2bytes(ciphertext)\n",
    "    nonce = ciphertext[:BLOCKSIZE]\n",
    "    tag = ciphertext[-TAGSIZE:]\n",
    "    ciphertext = ciphertext[BLOCKSIZE:-TAGSIZE]\n",
    "    pad, cipher, nonce, mac = derive_cipher_suite(password.encode(), nonce)\n",
    "    decryptor = cipher.decryptor()\n",
    "    unpadder = pad.unpadder()\n",
    "\n",
    "    mac.update(ciphertext)\n",
    "    mac.verify(tag)\n",
    "\n",
    "    plaintext = decryptor.update(ciphertext) + decryptor.finalize()\n",
    "    plaintext = unpadder.update(plaintext) + unpadder.finalize()\n",
    "    \n",
    "    ### END: This is what you have to change\n",
    "\n",
    "    # decode the byte string back to a string\n",
    "    return plaintext.decode('utf-8')"
   ]
  },
  {
   "cell_type": "markdown",
   "id": "ef3bd698-cecd-489e-a19d-73e964bb598d",
   "metadata": {},
   "source": [
    "Now let's try decrypting the ciphertext you encrypted above by entering the same password as you used for encryption."
   ]
  },
  {
   "cell_type": "code",
   "execution_count": 6,
   "id": "3af449da-3d2e-48cf-a0e7-8ffcd4a3434f",
   "metadata": {},
   "outputs": [
    {
     "name": "stdout",
     "output_type": "stream",
     "text": [
      "Hello, world!\n"
     ]
    }
   ],
   "source": [
    "mymessagedecrypted = decrypt(ciphertext)\n",
    "print(mymessagedecrypted)\n",
    "assert mymessagedecrypted == mymessage"
   ]
  },
  {
   "cell_type": "markdown",
   "id": "b677baa9-72fe-4b4d-9253-5b920bfc27ee",
   "metadata": {},
   "source": [
    "Try again but this time see what happens if you use a different password to decrypt. Your function should fail."
   ]
  },
  {
   "cell_type": "code",
   "execution_count": 7,
   "id": "5005c99d-00bf-4746-8e5c-f075f756aea2",
   "metadata": {},
   "outputs": [
    {
     "ename": "InvalidSignature",
     "evalue": "Signature did not match digest.",
     "output_type": "error",
     "traceback": [
      "\u001b[0;31m---------------------------------------------------------------------------\u001b[0m",
      "\u001b[0;31mInvalidSignature\u001b[0m                          Traceback (most recent call last)",
      "\u001b[1;32m/Users/ganyuxu/opensource/waterloo-cryptography/co687/authenticated_encryption.ipynb Cell 15\u001b[0m line \u001b[0;36m1\n\u001b[0;32m----> <a href='vscode-notebook-cell:/Users/ganyuxu/opensource/waterloo-cryptography/co687/authenticated_encryption.ipynb#X20sZmlsZQ%3D%3D?line=0'>1</a>\u001b[0m mymessagedecrypted \u001b[39m=\u001b[39m decrypt(ciphertext)\n\u001b[1;32m      <a href='vscode-notebook-cell:/Users/ganyuxu/opensource/waterloo-cryptography/co687/authenticated_encryption.ipynb#X20sZmlsZQ%3D%3D?line=1'>2</a>\u001b[0m \u001b[39mprint\u001b[39m(mymessagedecrypted)\n\u001b[1;32m      <a href='vscode-notebook-cell:/Users/ganyuxu/opensource/waterloo-cryptography/co687/authenticated_encryption.ipynb#X20sZmlsZQ%3D%3D?line=2'>3</a>\u001b[0m \u001b[39massert\u001b[39;00m mymessagedecrypted \u001b[39m==\u001b[39m mymessage\n",
      "\u001b[1;32m/Users/ganyuxu/opensource/waterloo-cryptography/co687/authenticated_encryption.ipynb Cell 15\u001b[0m line \u001b[0;36m1\n\u001b[1;32m     <a href='vscode-notebook-cell:/Users/ganyuxu/opensource/waterloo-cryptography/co687/authenticated_encryption.ipynb#X20sZmlsZQ%3D%3D?line=11'>12</a>\u001b[0m unpadder \u001b[39m=\u001b[39m pad\u001b[39m.\u001b[39munpadder()\n\u001b[1;32m     <a href='vscode-notebook-cell:/Users/ganyuxu/opensource/waterloo-cryptography/co687/authenticated_encryption.ipynb#X20sZmlsZQ%3D%3D?line=13'>14</a>\u001b[0m mac\u001b[39m.\u001b[39mupdate(ciphertext)\n\u001b[0;32m---> <a href='vscode-notebook-cell:/Users/ganyuxu/opensource/waterloo-cryptography/co687/authenticated_encryption.ipynb#X20sZmlsZQ%3D%3D?line=14'>15</a>\u001b[0m mac\u001b[39m.\u001b[39;49mverify(tag)\n\u001b[1;32m     <a href='vscode-notebook-cell:/Users/ganyuxu/opensource/waterloo-cryptography/co687/authenticated_encryption.ipynb#X20sZmlsZQ%3D%3D?line=16'>17</a>\u001b[0m plaintext \u001b[39m=\u001b[39m decryptor\u001b[39m.\u001b[39mupdate(ciphertext) \u001b[39m+\u001b[39m decryptor\u001b[39m.\u001b[39mfinalize()\n\u001b[1;32m     <a href='vscode-notebook-cell:/Users/ganyuxu/opensource/waterloo-cryptography/co687/authenticated_encryption.ipynb#X20sZmlsZQ%3D%3D?line=17'>18</a>\u001b[0m plaintext \u001b[39m=\u001b[39m unpadder\u001b[39m.\u001b[39mupdate(plaintext) \u001b[39m+\u001b[39m unpadder\u001b[39m.\u001b[39mfinalize()\n",
      "\u001b[0;31mInvalidSignature\u001b[0m: Signature did not match digest."
     ]
    }
   ],
   "source": [
    "mymessagedecrypted = decrypt(ciphertext)\n",
    "print(mymessagedecrypted)\n",
    "assert mymessagedecrypted == mymessage"
   ]
  }
 ],
 "metadata": {
  "kernelspec": {
   "display_name": "Python 3",
   "language": "python",
   "name": "python3"
  },
  "language_info": {
   "codemirror_mode": {
    "name": "ipython",
    "version": 3
   },
   "file_extension": ".py",
   "mimetype": "text/x-python",
   "name": "python",
   "nbconvert_exporter": "python",
   "pygments_lexer": "ipython3",
   "version": "3.10.4"
  }
 },
 "nbformat": 4,
 "nbformat_minor": 5
}
