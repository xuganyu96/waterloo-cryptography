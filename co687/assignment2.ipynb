{
 "cells": [
  {
   "cell_type": "markdown",
   "metadata": {},
   "source": [
    "UW user id: `g66xu`\n",
    "\n",
    "# Problem 1\n",
    "A large number of helper functions have been implemented to facilitate the solution (and it was just fun anyways). They are included at the end of the write-up for problem 1"
   ]
  },
  {
   "cell_type": "markdown",
   "metadata": {},
   "source": [
    "## a)\n",
    "The bias of the linear relationship over my inputs is approximately 0.00205."
   ]
  },
  {
   "cell_type": "code",
   "execution_count": 1,
   "metadata": {},
   "outputs": [
    {
     "name": "stdout",
     "output_type": "stream",
     "text": [
      "0.0020499999999999963\n"
     ]
    }
   ],
   "source": [
    "import os\n",
    "import sys\n",
    "\n",
    "sys.path.insert(0, \"/Users/ganyuxu/opensource/linear-cryptanalysis\")\n",
    "\n",
    "from cryptanalysis.heys import HeysCipher\n",
    "from cryptanalysis.attack import read_inputs, get_bias, check_sec34_linear_approx\n",
    "\n",
    "plaintexts = read_inputs(\"inputs/a2q1plaintexts.txt\")\n",
    "ciphertexts = read_inputs(\"inputs/a2q1ciphertexts.txt\")\n",
    "n_pairs = len(plaintexts)\n",
    "\n",
    "round_key_guess = 0b0000011100000110\n",
    "guess = HeysCipher([0, 0, 0, 0, round_key_guess])\n",
    "\n",
    "print(\n",
    "    get_bias(\n",
    "        plaintexts, ciphertexts, guess, check_sec34_linear_approx\n",
    "    )\n",
    ")"
   ]
  },
  {
   "cell_type": "markdown",
   "metadata": {},
   "source": [
    "## b)\n",
    "\n",
    "We will iterate through all possible values of these 8 bits and compute the \"section 3.4\" bias. The values that yield the largest amount of vias is the most likely value.\n",
    "\n",
    "The most possible values are as follows:\n",
    "\n",
    "|key bits (5th, 6th, ..., 15th, 16th bit of $K_5$)|bias|\n",
    "|:---|:---|\n",
    "|0,0,0,0,0,1,0,0|0.026800|\n",
    "|0,0,0,0,1,0,0,1|0.026800|\n",
    "|0,0,1,1,0,1,0,0|0.026350|\n",
    "|1,1,0,1,0,1,0,0|0.026000|\n",
    "|0,0,0,1,0,1,0,0|0.024650|"
   ]
  },
  {
   "cell_type": "code",
   "execution_count": 2,
   "metadata": {},
   "outputs": [
    {
     "name": "stdout",
     "output_type": "stream",
     "text": [
      "round key: 0000000000000100, bias: 0.026800\n",
      "round key: 0000000000001001, bias: 0.026800\n",
      "round key: 0000001100000100, bias: 0.026350\n",
      "round key: 0000110100000100, bias: 0.026000\n",
      "round key: 0000000100000100, bias: 0.024650\n"
     ]
    }
   ],
   "source": [
    "rankings = []\n",
    "\n",
    "for bits_5_to_8 in range(0b0000, 0b1111 + 1):\n",
    "    for bits_13_to_16 in range(0b0000, 0b1111 + 1):\n",
    "        round_key = (bits_5_to_8 << 8) + bits_13_to_16\n",
    "        guess = HeysCipher([0, 0, 0, 0, round_key])\n",
    "        bias = get_bias(\n",
    "            plaintexts, ciphertexts, guess, check_sec34_linear_approx\n",
    "        )\n",
    "        rankings.append((bias, round_key))\n",
    "\n",
    "rankings.sort(key=lambda x: x[0], reverse=True)\n",
    "for bias, round_key in rankings[:5]:\n",
    "    print(f\"round key: {round_key:016b}, bias: {bias:0.6f}\")"
   ]
  },
  {
   "cell_type": "markdown",
   "metadata": {},
   "source": [
    "## c)\n",
    "Finding the bias of the individual linear relationship involves computing the input sum and the output sum. Then we use table 4 to look up the expected bias. The results are as follows:\n",
    "\n",
    "|linear relation|input sum|output sum|expected bias|\n",
    "|:---|:---|:---|:---|\n",
    "|$S_{11}: X_1 \\oplus X_4 \\approx Y_1$|9|8|-4/16|\n",
    "|$S_{13}: X_1 \\oplus X_4 \\approx Y_1$|9|8|-4/16|\n",
    "|$S_{21}: X_1 \\oplus X_3 \\approx Y_2$|10|4|-4/16|\n",
    "|$S_{32}: X_1 \\approx Y_1 \\oplus Y_2 \\oplus Y_3 \\oplus Y_4 $|8|15|-6/16|\n",
    "\n",
    "We can trace through the Heys Cipher write down the linear relationships of the intermediary state before arriving at a final linear approximation:\n",
    "\n",
    "$$\n",
    "\\begin{aligned}\n",
    "U_{1,1} &= P_1 \\oplus K_{1,1} \\\\\n",
    "U_{1,4} &= P_4 \\oplus K_{1,4} \\\\\n",
    "U_{1,9} &= P_9 \\oplus K_{1,9} \\\\\n",
    "U_{1,12} &= P_{12} \\oplus K_{1,12} \\\\\n",
    "V_{1,1} &\\approx U_{1,1} \\oplus U_{1,4}, \\epsilon = -\\frac{1}{4} \\\\\n",
    "V_{1,9} &\\approx U_{1,9} \\oplus U_{1,12}, \\epsilon = -\\frac{1}{4} \\\\\n",
    "U_{2,1} &= V_{1,1} \\oplus K_{2,1} \\\\\n",
    "U_{2,3} &= V_{1,9} \\oplus K_{2,3} \\\\\n",
    "V_{2,2} &\\approx U_{2,1} \\oplus U_{2,3}, \\epsilon = -\\frac{1}{4} \\\\\n",
    "U_{3,5} &= V_{2,2} \\oplus K_{3,5} \\\\\n",
    "V_{3,5} \\oplus V_{3,6} \\oplus V_{3,7} \\oplus V_{3,8} &\\approx U_{3,5}, \\epsilon = -\\frac{3}{8}\n",
    "\\end{aligned}\n",
    "$$\n",
    "\n",
    "Therefore:\n",
    "\n",
    "$$\n",
    "\\begin{aligned}\n",
    "V_{3,5} \\oplus V_{3,6} \\oplus V_{3,7} \\oplus V_{3,8} &\\approx U_{3,5} \\\\\n",
    "&\\approx V_{2,2} \\oplus K_{3,5} \\\\\n",
    "&\\approx U_{2,1} \\oplus U_{2,3} \\oplus K_{3,5} \\\\\n",
    "&\\approx (V_{1,1} \\oplus K_{2,1}) \\oplus (V_{1,9} \\oplus K_{2,3}) \\oplus K_{3,5} \\\\\n",
    "&\\approx U_{1,1} \\oplus U_{1,4} \\oplus K_{2,1} \\oplus U_{1,9} \\oplus U_{1,12} \\oplus K_{3,5} \\\\\n",
    "&\\approx P_1 \\oplus K_{1,1} \\oplus P_4 \\oplus K_{1,4} \\oplus K_{2,1} \\oplus P_9 \\oplus K_{1,9} \\oplus P_{12} \\oplus K_{1,12} \\oplus K_{3,5} \\\\\n",
    "\\end{aligned}\n",
    "$$\n",
    "\n",
    "Add to the approximation above the following relationship:\n",
    "\n",
    "$$\n",
    "\\begin{aligned}\n",
    "U_{4,2} &= V_{3,5} \\oplus K_{4,2} \\\\\n",
    "U_{4,6} &= V_{3,6} \\oplus K_{4,6} \\\\\n",
    "U_{4,10} &= V_{3,7} \\oplus K_{4,10} \\\\\n",
    "U_{4,14} &= V_{3,8} \\oplus K_{4,14} \\\\\n",
    "\\end{aligned}\n",
    "$$\n",
    "\n",
    "Finally, move everything to onde side, We have the following approximation:\n",
    "\n",
    "$$\n",
    "P_1 \\oplus P_4 \\oplus P_9 \\oplus P_{12} \n",
    "\\oplus U_{4,2} \\oplus U_{4,6} \\oplus U_{4,10} \\oplus U_{4,14}\n",
    "\\oplus \\sum\\text{bunch of key bits}\n",
    "\\approx 0\n",
    "$$\n",
    "\n",
    "Where the bunch of key bits include: $K_{1,1}, K_{1,4}, K_{1,9}, K_{1,12}, K_{2,1}, K_{3,5}, K_{4,2}, K_{4,6}, K_{4,10}, K_{4,14}$\n",
    "\n",
    "The final bias can be approximated using the piling-up lemma:\n",
    "\n",
    "$$\n",
    "\\epsilon = 2^3 \\cdot \\Pi_{i=1}^{4}\\epsilon_i = 8 \\cdot (-\\frac{1}{4}) \\cdot (-\\frac{1}{4}) \\cdot (-\\frac{1}{4}) \\cdot (-\\frac{3}{8}) = \\frac{3}{64}\n",
    "$$\n",
    "\n",
    "Also, a helpful diagram:\n",
    "\n",
    "<img src=\"./static/a2q1c.png\" width=500></img>"
   ]
  },
  {
   "cell_type": "markdown",
   "metadata": {},
   "source": [
    "## d)\n",
    "Fixing the sum of key bits to be $0$, we arrive at the following linear approximation:\n",
    "\n",
    "$$\n",
    "P_1 \\oplus P_4 \\oplus P_9 \\oplus P_{12} \n",
    "\\oplus U_{4,2} \\oplus U_{4,6} \\oplus U_{4,10} \\oplus U_{4,14}\n",
    "\\approx 0\n",
    "$$\n",
    "\n",
    "Because $U_{4,2}, U_{4,6}, U_{4,10}, U_{4,14}$ are involved in all four S-boxes, without further insights into the constructions of the S-boxes, the best approach to finding the fifth round key is to brute-force all $2^{16}$ possible values, which is impractical to do on a personal computer running Python. So I choose (ii) and will manually analyze the first 10 pairs using the round key `0b1100011111100110`.\n",
    "\n",
    "|plaintext|ciphertext|U4|$P_1 \\oplus P_4 \\oplus P_9 \\oplus P_{12} \\oplus U_{4,2} \\oplus U_{4,6} \\oplus U_{4,10} \\oplus U_{4,14}$|\n",
    "|:---|:---|:---|:---|\n",
    "|`0000000000000001`|`1111010100100110`|`1000010010111110`|0|\n",
    "|`0000000000000010`|`0100110011011100`|`0111011010001001`|0|\n",
    "|`0000000000000011`|`1110101100010001`|`0100101101011111`|1|\n",
    "|`0000000000000100`|`1011001010101110`|`1111110000010111`|1|\n",
    "|`0000000000000110`|`1111101111000001`|`1000101101001111`|0|\n",
    "|`0000000000001000`|`1110010101000000`|`0100010010011010`|0|\n",
    "|`0000000000001010`|`1011000010100110`|`1111111100011110`|1|\n",
    "|`0000000000010001`|`1111100100010111`|`1000000001010011`|0|\n",
    "|`0000000000010101`|`1000010011010011`|`0001100010001100`|0|\n",
    "|`0000000000011010`|`1101110000001101`|`0011011000000110`|1|\n",
    "\n",
    "The relationship holds 6 out of 10 times, so the bias is $\\frac{6}{10} - \\frac{1}{2} = \\frac{1}{10}$\n"
   ]
  }
 ],
 "metadata": {
  "kernelspec": {
   "display_name": ".venv",
   "language": "python",
   "name": "python3"
  },
  "language_info": {
   "codemirror_mode": {
    "name": "ipython",
    "version": 3
   },
   "file_extension": ".py",
   "mimetype": "text/x-python",
   "name": "python",
   "nbconvert_exporter": "python",
   "pygments_lexer": "ipython3",
   "version": "3.10.4"
  }
 },
 "nbformat": 4,
 "nbformat_minor": 2
}
