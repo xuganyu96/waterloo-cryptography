{
 "cells": [
  {
   "cell_type": "code",
   "execution_count": 3,
   "metadata": {},
   "outputs": [
    {
     "data": {
      "text/latex": [
       "$\\displaystyle \\operatorname{Poly}{\\left( x^{256} + 1, x, domain=\\mathbb{F}_{8380417} \\right)}$"
      ],
      "text/plain": [
       "Poly(x**256 + 1, x, modulus=8380417)"
      ]
     },
     "metadata": {},
     "output_type": "display_data"
    }
   ],
   "source": [
    "import random\n",
    "from sympy import FF, Poly, symbols\n",
    "\n",
    "q = 2 ** 23  - 2 ** 13 + 1\n",
    "n = 256\n",
    "\n",
    "x = symbols(\"x\")\n",
    "int_ring = FF(q)\n",
    "coeffs = [0 for _ in range(n+1)]\n",
    "coeffs[0], coeffs[-1] = 1, 1\n",
    "polymod = Poly(coeffs, x, domain=int_ring)\n",
    "\n",
    "display(polymod)"
   ]
  },
  {
   "cell_type": "markdown",
   "metadata": {},
   "source": [
    "$\\operatorname{PGen}$\n",
    "- $q = 2^{23} - 2^{13} + 1$ is a prime, and $n = 256$\n",
    "- $R_q$ is the polynomial ring $\\mathbb{Z}_q[x] / \\langle x^n + 1\\rangle$\n",
    "- $\\eta$ is the **size of coefficients(?)** of polynomials that make up the secret keys $\\mathbf{s}_1 \\in S_\\eta^l$, $\\mathbf{s}_2 \\in S_\\eta^k$\n",
    "\n",
    "$\\operatorname{KeyGen}$\n",
    "\n",
    "- $\\mathbf{A} \\leftarrow R_q^{k \\times l}$"
   ]
  }
 ],
 "metadata": {
  "kernelspec": {
   "display_name": ".venv",
   "language": "python",
   "name": "python3"
  },
  "language_info": {
   "codemirror_mode": {
    "name": "ipython",
    "version": 3
   },
   "file_extension": ".py",
   "mimetype": "text/x-python",
   "name": "python",
   "nbconvert_exporter": "python",
   "pygments_lexer": "ipython3",
   "version": "3.10.4"
  }
 },
 "nbformat": 4,
 "nbformat_minor": 2
}
