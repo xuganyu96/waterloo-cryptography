{
 "cells": [
  {
   "cell_type": "markdown",
   "metadata": {},
   "source": [
    "# Three kinds of convolution\n",
    "\n",
    "## Linear convolution\n",
    "let $a, b \\in \\mathbb{Z}_q[x]$ take \n"
   ]
  },
  {
   "cell_type": "markdown",
   "metadata": {},
   "source": [
    "# Schoolbook multiplication\n",
    "\n",
    "Let's do school multiplication of polynomials"
   ]
  }
 ],
 "metadata": {
  "kernelspec": {
   "display_name": ".venv",
   "language": "python",
   "name": "python3"
  },
  "language_info": {
   "name": "python",
   "version": "3.10.4"
  }
 },
 "nbformat": 4,
 "nbformat_minor": 2
}
